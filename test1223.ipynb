{
 "cells": [
  {
   "cell_type": "markdown",
   "metadata": {},
   "source": [
    "***GENERATED CODE FOR test1223 PIPELINE.***"
   ]
  },
  {
   "cell_type": "markdown",
   "metadata": {},
   "source": [
    "***DON'T EDIT THIS CODE.***"
   ]
  },
  {
   "cell_type": "markdown",
   "metadata": {},
   "source": [
    "***CONNECTOR FUNCTIONS TO READ DATA.***"
   ]
  },
  {
   "cell_type": "code",
   "execution_count": null,
   "metadata": {},
   "outputs": [],
   "source": [
    "from hdfs3 import HDFileSystem\n",
    "import datetime\n",
    "import logging\n",
    "import warnings\n",
    "warnings.filterwarnings('ignore')\n",
    "logging.basicConfig(format='%(levelname)s:%(message)s', level=logging.INFO)\n",
    "\n",
    "\n",
    "class HDFSConnector:\n",
    "\n",
    "    def fetch(spark, config):\n",
    "        ################### INPUT HADOOP HOST PORT TO CONNECT WITH ###############################\n",
    "        hdfs = HDFileSystem(\n",
    "            host=eval(config)['host'], port=eval(config)['port'])\n",
    "        with hdfs.open(eval(config)['url']) as f:\n",
    "            df = pd.read_csv(f, error_bad_lines=False)\n",
    "        df = spark.createDataFrame(dfPd)\n",
    "        display(df.limit(2).toPandas())\n",
    "        return df\n",
    "\n",
    "    def put(df, spark, config):\n",
    "        return df.write.format('csv').options(header='true' if eval(config)[\"is_header\"] == \"Use Header Line\" else 'false',\n",
    "                                              delimiter=eval(config)[\"delimiter\"]).save((\"%s %s\") % (datetime.datetime.now().strftime(\"%Y-%m-%d %H.%M.%S\")+\"_\", eval(config)['url']))\n"
   ]
  },
  {
   "cell_type": "markdown",
   "metadata": {},
   "source": [
    "***TRANSFORMATIONS FUNCTIONS THAT WILL BE APPLIED ON DATA***"
   ]
  },
  {
   "cell_type": "code",
   "execution_count": null,
   "metadata": {},
   "outputs": [],
   "source": [
    "import json\n",
    "from pyspark.sql.types import IntegerType\n",
    "from pyspark.ml.feature import StringIndexer\n",
    "from pyspark.sql.functions import col, when\n",
    "from pyspark.sql.types import IntegerType\n",
    "from pyspark.sql.functions import mean, stddev, min, max, col\n",
    "\n",
    "\n",
    "class CleanseData:\n",
    "    # def __init__(self,df):\n",
    "    #     #print()\n",
    "\n",
    "    def replaceByMean(self, feature, df, mean_=-1):\n",
    "\n",
    "        meanValue = df.select(mean(col(feature.name)).alias(\n",
    "            'mean')).collect()[0][\"mean\"]\n",
    "        df.fillna(meanValue, subset=[feature.name])\n",
    "        df.withColumn(feature.name, when(col(feature.name) == \" \",\n",
    "                                         meanValue).otherwise(col(feature.name).cast(\"Integer\")))\n",
    "        return df\n",
    "\n",
    "    def replaceByMax(self, feature, df, max_=-1):\n",
    "        maxValue = df.select(max(col(feature.name)).alias('max')).collect()[\n",
    "            0][\"max\"]\n",
    "        df.fillna(maxValue, subset=[feature.name])\n",
    "        df = df.withColumn(feature.name,\n",
    "                           when(col(feature.name) == \" \", maxValue).otherwise(col(feature.name)))\n",
    "        return df\n",
    "\n",
    "    def replaceByMin(self, feature, df, min_=-1):\n",
    "        minValue = df.select(min(col(feature.name)).alias('min')).collect()[\n",
    "            0][\"min\"]\n",
    "        df.fillna(minValue, subset=[feature.name])\n",
    "        df = df.withColumn(feature.name,\n",
    "                           when(col(feature.name) == \" \", minValue).otherwise(col(feature.name)))\n",
    "        return df\n",
    "\n",
    "    def replaceByStandardDeviation(self, feature, df, stddev_=-1):\n",
    "        stddevValue = df.select(stddev(col(feature.name)).alias(\n",
    "            'stddev')).collect()[0][\"stddev\"]\n",
    "        df.fillna(stddevValue, subset=[feature.name])\n",
    "        df = df.withColumn(feature.name,\n",
    "                           when(col(feature.name) == \" \", stddevValue).otherwise(col(feature.name)))\n",
    "        return df\n",
    "\n",
    "    def replaceDateRandomly(self, feature, df):\n",
    "        fillValue = df.where(col(feature.name).isNotNull()\n",
    "                             ).head(1)[0][feature.name]\n",
    "        df.fillna(str(fillValue), subset=[feature.name])\n",
    "        df = df.withColumn(feature.name,\n",
    "                           when(col(feature.name) == \" \", fillValue).otherwise(col(feature.name)))\n",
    "        # print(\"CleanseData:replaceDateRandomly Schema : \", df.#printSchema())\n",
    "        return df\n",
    "\n",
    "    def replaceNullValues(self, fList, df):\n",
    "        featuresList = df.schema.fields\n",
    "        for featureObj in fList:\n",
    "            for feat in featuresList:\n",
    "                if featureObj[\"feature\"] in feat.name:\n",
    "                    featureName = feat\n",
    "                    if \"mean\" in featureObj[\"replaceby\"]:\n",
    "                        df = self.replaceByMean(featureName, df)\n",
    "                    elif \"max\" in featureObj[\"replaceby\"]:\n",
    "                        df = self.replaceByMax(featureName, df)\n",
    "                    elif \"min\" in featureObj[\"replaceby\"]:\n",
    "                        df = self.replaceByMin(featureName, df)\n",
    "                    elif \"stddev\" in featureObj[\"replaceby\"]:\n",
    "                        df = self.replaceByStandardDeviation(featureName, df)\n",
    "                    elif \"random\" in featureObj[\"replaceby\"]:\n",
    "                        df = self.replaceDateRandomly(featureName, df)\n",
    "        return df\n",
    "\n",
    "\n",
    "def StringIndexerTransform(df, params, transformationData={}):\n",
    "    dfReturn = df\n",
    "    feature = params[\"feature\"]\n",
    "\n",
    "    dfReturn = dfReturn.fillna({feature: ''})\n",
    "    outcol = feature + \"_stringindexer\"\n",
    "    indexer = StringIndexer(\n",
    "        inputCol=feature, outputCol=outcol, handleInvalid=\"skip\")\n",
    "    indexed = indexer.fit(dfReturn).transform(dfReturn)\n",
    "    dfReturn = indexed\n",
    "    distinct_values_list = dfReturn.select(\n",
    "        outcol).distinct().rdd.map(lambda r: r[0]).collect()\n",
    "    len_distinct_values_list = len(distinct_values_list)\n",
    "    if len_distinct_values_list <= 4:\n",
    "        changed_type_df = dfReturn.withColumn(\n",
    "            outcol, dfReturn[outcol].cast(IntegerType()))\n",
    "        return changed_type_df\n",
    "    return dfReturn\n",
    "\n",
    "\n",
    "class TransformationMain:\n",
    "    # TODO: change df argument in run with following\n",
    "    def run(transformationDF, config):\n",
    "        configObj = json.loads(config)\n",
    "        featureData = configObj[\"FE\"]\n",
    "        transformationDF = CleanseData().replaceNullValues(featureData, transformationDF)\n",
    "        transformationDF = StringIndexerTransform(transformationDF, {'transformationsData': [{'feature_label': 'PredcitiveChurnTrain[State]', 'transformation_label': 'String Indexer'}], 'feature': 'PredcitiveChurnTrain[State]', 'type': 'string', 'selected': 'True', 'replaceby': 'max', 'stats': {\n",
    "                                                  'count': '18', 'mean': '', 'stddev': '', 'min': 'AR', 'max': 'cO', 'missing': '0', 'distinct': '13'}, 'transformation': [{'transformation': 'String Indexer', 'selectedAsDefault': 1}], 'updatedLabel': 'PredcitiveChurnTrain[Stat...'}, {'feature_label': 'PredcitiveChurnTrain[State]', 'transformation_label': 'String Indexer'})\n",
    "        transformationDF = transformationDF.drop(\n",
    "            'PredcitiveChurnTrain[State]')\n",
    "        transformationDF = StringIndexerTransform(transformationDF, {'transformationsData': [{'feature_label': 'PredcitiveChurnTrain[Phone]', 'transformation_label': 'String Indexer'}], 'feature': 'PredcitiveChurnTrain[Phone]', 'type': 'string', 'selected': 'True', 'replaceby': 'max', 'stats': {\n",
    "            'count': '18', 'mean': '', 'stddev': '', 'min': '340-5121', 'max': '420-5645', 'missing': '0', 'distinct': '18'}, 'transformation': [{'transformation': 'String Indexer', 'selectedAsDefault': 1}], 'updatedLabel': 'PredcitiveChurnTrain[Phon...'}, {'feature_label': 'PredcitiveChurnTrain[Phone]', 'transformation_label': 'String Indexer'})\n",
    "        transformationDF = transformationDF.drop(\n",
    "            'PredcitiveChurnTrain[Phone]')\n",
    "        transformationDF = StringIndexerTransform(transformationDF, {'transformationsData': [{'feature_label': 'PredcitiveChurnTrain[cluster_labels]', 'transformation_label': 'String Indexer'}], 'feature': 'PredcitiveChurnTrain[cluster_labels]', 'type': 'string', 'selected': 'True', 'replaceby': 'max', 'stats': {\n",
    "            'count': '18', 'mean': '', 'stddev': '', 'min': 'day_callers', 'max': 'vmailers', 'missing': '0', 'distinct': '5'}, 'transformation': [{'transformation': 'String Indexer', 'selectedAsDefault': 1}], 'updatedLabel': 'PredcitiveChurnTrain[clus...'}, {'feature_label': 'PredcitiveChurnTrain[cluster_labels]', 'transformation_label': 'String Indexer'})\n",
    "        transformationDF = transformationDF.drop(\n",
    "            'PredcitiveChurnTrain[cluster_labels]')\n",
    "        display(transformationDF.limit(2).toPandas())\n",
    "        return transformationDF\n"
   ]
  },
  {
   "cell_type": "markdown",
   "metadata": {},
   "source": [
    "***AUTOML FUNCTIONS***"
   ]
  },
  {
   "cell_type": "code",
   "execution_count": null,
   "metadata": {},
   "outputs": [],
   "source": [
    "from tpot import TPOTClassifier\n",
    "from sklearn.model_selection import train_test_split\n",
    "import pyspark\n",
    "\n",
    "\n",
    "def functionClassification(sparkDF, listOfFeatures, label):\n",
    "    sparkDF.persist(pyspark.StorageLevel.MEMORY_AND_DISK)\n",
    "    df = (sparkDF.toPandas())\n",
    "    X = (df.drop(label, axis=1))[listOfFeatures].values\n",
    "    y = df[label].values\n",
    "    X_train, X_test, y_train, y_test = train_test_split(\n",
    "        X, y, random_state=1, test_size=0.1)\n",
    "    tpotModel = TPOTClassifier(verbosity=3, n_jobs=-1, generations=10, max_time_mins=5,\n",
    "                               population_size=15)\n",
    "    tpotModel.fit(X_train, y_train)\n",
    "    display(\" Accuracy of Model : %s\" % tpotModel.score(X_test, y_test))\n",
    "    data = {'model': tpotModel,\n",
    "            'X_test': X_test,\n",
    "            'y_test': y_test,\n",
    "            'label': label,\n",
    "            'columnNames': listOfFeatures}\n",
    "    return data\n"
   ]
  },
  {
   "cell_type": "markdown",
   "metadata": {},
   "source": [
    "***READING DATAFRAME***"
   ]
  },
  {
   "cell_type": "code",
   "execution_count": null,
   "metadata": {},
   "outputs": [],
   "source": [
    "############## CREATE SPARK SESSION ############################ ENTER YOUR SPARK MASTER IP AND PORT TO CONNECT TO SERVER ################from pyspark.sql import SparkSession\n",
    "spark = SparkSession.builder.master('spark://0.0.0.0:0000').getOrCreate()\n",
    "#%run test1223Hooks.ipynb\n",
    "try:\n",
    "\t#sourcePreExecutionHook()\n",
    "\n",
    "\ttesthdfs = HDFSConnector.fetch(spark, \"{'url': '/FileStore/platform/extra/tempFile1660648914.csv', 'filename': 'tempFile1660648914.csv', 'delimiter': ',', 'file_type': 'Delimeted', 'is_header': 'Use Header Line', 'server_url': '/numtraPlatform/NumtraPlatformV2/uploads/platform/'}\")\n",
    "\t#sourcePostExecutionHook(testhdfs)\n",
    "\n",
    "except Exception as ex: \n",
    "\tlogging.error(ex)\n"
   ]
  },
  {
   "cell_type": "markdown",
   "metadata": {},
   "source": [
    "***TRANSFORMING DATAFRAME***"
   ]
  },
  {
   "cell_type": "code",
   "execution_count": null,
   "metadata": {},
   "outputs": [],
   "source": [
    "#%run test1223Hooks.ipynb\n",
    "try:\n",
    "\t#transformationPreExecutionHook()\n",
    "\n",
    "\ttestautofe = TransformationMain.run(testhdfs,json.dumps( {\"FE\": [{\"transformationsData\": [{\"feature_label\": \"PredcitiveChurnTrain[State]\", \"transformation_label\": \"String Indexer\"}], \"feature\": \"PredcitiveChurnTrain[State]\", \"type\": \"string\", \"selected\": \"True\", \"replaceby\": \"max\", \"stats\": {\"count\": \"18\", \"mean\": \"\", \"stddev\": \"\", \"min\": \"AR\", \"max\": \"cO\", \"missing\": \"0\", \"distinct\": \"13\"}, \"transformation\": [{\"transformation\": \"String Indexer\", \"selectedAsDefault\": 1}], \"updatedLabel\": \"PredcitiveChurnTrain[Stat...\"}, {\"transformationsData\": [{\"transformation_label\": \"novalue\"}], \"feature\": \"PredcitiveChurnTrain[Account_Length]\", \"transformation\": [{\"transformation\": \"novalue\", \"selectedAsDefault\": 1}], \"type\": \"numeric\", \"replaceby\": \"mean\", \"selected\": \"True\", \"stats\": {\"count\": \"18\", \"mean\": \"90.06\", \"stddev\": \"40.88\", \"min\": \"10\", \"max\": \"160\", \"missing\": \"0\"}, \"updatedLabel\": \"PredcitiveChurnTrain[Acco...\"}, {\"transformationsData\": [{\"transformation_label\": \"novalue\"}], \"feature\": \"PredcitiveChurnTrain[Area_Code]\", \"transformation\": [{\"transformation\": \"novalue\", \"selectedAsDefault\": 1}], \"type\": \"numeric\", \"replaceby\": \"mean\", \"selected\": \"True\", \"stats\": {\"count\": \"18\", \"mean\": \"422.06\", \"stddev\": \"32.17\", \"min\": \"408\", \"max\": \"510\", \"missing\": \"0\"}, \"updatedLabel\": \"PredcitiveChurnTrain[Area...\"}, {\"transformationsData\": [{\"feature_label\": \"PredcitiveChurnTrain[Phone]\", \"transformation_label\": \"String Indexer\"}], \"feature\": \"PredcitiveChurnTrain[Phone]\", \"type\": \"string\", \"selected\": \"True\", \"replaceby\": \"max\", \"stats\": {\"count\": \"18\", \"mean\": \"\", \"stddev\": \"\", \"min\": \"340-5121\", \"max\": \"420-5645\", \"missing\": \"0\", \"distinct\": \"18\"}, \"transformation\": [{\"transformation\": \"String Indexer\", \"selectedAsDefault\": 1}], \"updatedLabel\": \"PredcitiveChurnTrain[Phon...\"}, {\"transformationsData\": [{\"transformation_label\": \"novalue\"}], \"feature\": \"PredcitiveChurnTrain[Intl_Plan]\", \"transformation\": [{\"transformation\": \"novalue\", \"selectedAsDefault\": 1}], \"type\": \"numeric\", \"replaceby\": \"mean\", \"selected\": \"True\", \"stats\": {\"count\": \"18\", \"mean\": \"0.06\", \"stddev\": \"0.24\", \"min\": \"0\", \"max\": \"1\", \"missing\": \"0\"}, \"updatedLabel\": \"PredcitiveChurnTrain[Intl...\"}, {\"transformationsData\": [{\"transformation_label\": \"novalue\"}], \"feature\": \"PredcitiveChurnTrain[VMail_Plan]\", \"transformation\": [{\"transformation\": \"novalue\", \"selectedAsDefault\": 1}], \"type\": \"numeric\", \"replaceby\": \"mean\", \"selected\": \"True\", \"stats\": {\"count\": \"18\", \"mean\": \"0.22\", \"stddev\": \"0.43\", \"min\": \"0\", \"max\": \"1\", \"missing\": \"0\"}, \"updatedLabel\": \"PredcitiveChurnTrain[VMai...\"}, {\"transformationsData\": [{\"transformation_label\": \"novalue\"}], \"feature\": \"PredcitiveChurnTrain[VMail_Message]\", \"transformation\": [{\"transformation\": \"novalue\", \"selectedAsDefault\": 1}], \"type\": \"numeric\", \"replaceby\": \"mean\", \"selected\": \"True\", \"stats\": {\"count\": \"18\", \"mean\": \"6.83\", \"stddev\": \"13.5\", \"min\": \"0\", \"max\": \"41\", \"missing\": \"0\"}, \"updatedLabel\": \"PredcitiveChurnTrain[VMai...\"}, {\"transformationsData\": [{\"transformation_label\": \"novalue\"}], \"feature\": \"PredcitiveChurnTrain[Day_Mins]\", \"type\": \"real\", \"selected\": \"True\", \"replaceby\": \"mean\", \"stats\": {\"count\": \"18\", \"mean\": \"160.34\", \"stddev\": \"35.94\", \"min\": \"85.8\", \"max\": \"220.6\", \"missing\": \"0\"}, \"transformation\": [{\"transformation\": \"novalue\", \"selectedAsDefault\": 1}], \"updatedLabel\": \"PredcitiveChurnTrain[Day_...\"}, {\"transformationsData\": [{\"transformation_label\": \"novalue\"}], \"feature\": \"PredcitiveChurnTrain[Day_Calls]\", \"transformation\": [{\"transformation\": \"novalue\", \"selectedAsDefault\": 1}], \"type\": \"numeric\", \"replaceby\": \"mean\", \"selected\": \"True\", \"stats\": {\"count\": \"18\", \"mean\": \"99.06\", \"stddev\": \"23.82\", \"min\": \"57\", \"max\": \"135\", \"missing\": \"0\"}, \"updatedLabel\": \"PredcitiveChurnTrain[Day_...\"}, {\"transformationsData\": [{\"transformation_label\": \"novalue\"}], \"feature\": \"PredcitiveChurnTrain[Day_Charge]\", \"type\": \"real\", \"selected\": \"True\", \"replaceby\": \"mean\", \"stats\": {\"count\": \"18\", \"mean\": \"27.26\", \"stddev\": \"6.11\", \"min\": \"14.59\", \"max\": \"37.5\", \"missing\": \"0\"}, \"transformation\": [{\"transformation\": \"novalue\", \"selectedAsDefault\": 1}], \"updatedLabel\": \"PredcitiveChurnTrain[Day_...\"}, {\"transformationsData\": [{\"transformation_label\": \"novalue\"}], \"feature\": \"PredcitiveChurnTrain[Eve_Mins]\", \"type\": \"real\", \"selected\": \"True\", \"replaceby\": \"mean\", \"stats\": {\"count\": \"18\", \"mean\": \"203.64\", \"stddev\": \"51.47\", \"min\": \"75.3\", \"max\": \"282.2\", \"missing\": \"0\"}, \"transformation\": [{\"transformation\": \"novalue\", \"selectedAsDefault\": 1}], \"updatedLabel\": \"PredcitiveChurnTrain[Eve_...\"}, {\"transformationsData\": [{\"transformation_label\": \"novalue\"}], \"feature\": \"PredcitiveChurnTrain[Eve_Calls]\", \"transformation\": [{\"transformation\": \"novalue\", \"selectedAsDefault\": 1}], \"type\": \"numeric\", \"replaceby\": \"mean\", \"selected\": \"True\", \"stats\": {\"count\": \"18\", \"mean\": \"92.5\", \"stddev\": \"21.57\", \"min\": \"58\", \"max\": \"122\", \"missing\": \"0\"}, \"updatedLabel\": \"PredcitiveChurnTrain[Eve_...\"}, {\"transformationsData\": [{\"transformation_label\": \"novalue\"}], \"feature\": \"PredcitiveChurnTrain[Eve_Charge]\", \"type\": \"real\", \"selected\": \"True\", \"replaceby\": \"mean\", \"stats\": {\"count\": \"18\", \"mean\": \"17.31\", \"stddev\": \"4.38\", \"min\": \"6.4\", \"max\": \"23.99\", \"missing\": \"0\"}, \"transformation\": [{\"transformation\": \"novalue\", \"selectedAsDefault\": 1}], \"updatedLabel\": \"PredcitiveChurnTrain[Eve_...\"}, {\"transformationsData\": [{\"transformation_label\": \"novalue\"}], \"feature\": \"PredcitiveChurnTrain[Night_Mins]\", \"type\": \"real\", \"selected\": \"True\", \"replaceby\": \"mean\", \"stats\": {\"count\": \"18\", \"mean\": \"200.68\", \"stddev\": \"64.6\", \"min\": \"70.6\", \"max\": \"311.5\", \"missing\": \"0\"}, \"transformation\": [{\"transformation\": \"novalue\", \"selectedAsDefault\": 1}], \"updatedLabel\": \"PredcitiveChurnTrain[Nigh...\"}, {\"transformationsData\": [{\"transformation_label\": \"novalue\"}], \"feature\": \"PredcitiveChurnTrain[Night_Calls]\", \"transformation\": [{\"transformation\": \"novalue\", \"selectedAsDefault\": 1}], \"type\": \"numeric\", \"replaceby\": \"mean\", \"selected\": \"True\", \"stats\": {\"count\": \"18\", \"mean\": \"98.39\", \"stddev\": \"24.45\", \"min\": \"57\", \"max\": \"135\", \"missing\": \"0\"}, \"updatedLabel\": \"PredcitiveChurnTrain[Nigh...\"}, {\"transformationsData\": [{\"transformation_label\": \"novalue\"}], \"feature\": \"PredcitiveChurnTrain[Night_Charge]\", \"type\": \"real\", \"selected\": \"True\", \"replaceby\": \"mean\", \"stats\": {\"count\": \"18\", \"mean\": \"9.03\", \"stddev\": \"2.91\", \"min\": \"3.18\", \"max\": \"14.02\", \"missing\": \"0\"}, \"transformation\": [{\"transformation\": \"novalue\", \"selectedAsDefault\": 1}], \"updatedLabel\": \"PredcitiveChurnTrain[Nigh...\"}, {\"transformationsData\": [{\"transformation_label\": \"novalue\"}], \"feature\": \"PredcitiveChurnTrain[Intl_Mins]\", \"type\": \"real\", \"selected\": \"True\", \"replaceby\": \"mean\", \"stats\": {\"count\": \"18\", \"mean\": \"9.14\", \"stddev\": \"2.57\", \"min\": \"3.5\", \"max\": \"14.6\", \"missing\": \"0\"}, \"transformation\": [{\"transformation\": \"novalue\", \"selectedAsDefault\": 1}], \"updatedLabel\": \"PredcitiveChurnTrain[Intl...\"}, {\"transformationsData\": [{\"transformation_label\": \"novalue\"}], \"feature\": \"PredcitiveChurnTrain[total_Mins]\", \"type\": \"real\", \"selected\": \"True\", \"replaceby\": \"mean\", \"stats\": {\"count\": \"18\", \"mean\": \"573.81\", \"stddev\": \"102.66\", \"min\": \"432.0\", \"max\": \"728.5\", \"missing\": \"0\"}, \"transformation\": [{\"transformation\": \"novalue\", \"selectedAsDefault\": 1}], \"updatedLabel\": \"PredcitiveChurnTrain[tota...\"}, {\"transformationsData\": [{\"transformation_label\": \"novalue\"}], \"feature\": \"PredcitiveChurnTrain[Intl_Calls]\", \"transformation\": [{\"transformation\": \"novalue\", \"selectedAsDefault\": 1}], \"type\": \"numeric\", \"replaceby\": \"mean\", \"selected\": \"True\", \"stats\": {\"count\": \"18\", \"mean\": \"4.39\", \"stddev\": \"2.89\", \"min\": \"2\", \"max\": \"15\", \"missing\": \"0\"}, \"updatedLabel\": \"PredcitiveChurnTrain[Intl...\"}, {\"transformationsData\": [{\"transformation_label\": \"novalue\"}], \"feature\": \"PredcitiveChurnTrain[Intl_Charge]\", \"type\": \"real\", \"selected\": \"True\", \"replaceby\": \"mean\", \"stats\": {\"count\": \"18\", \"mean\": \"2.47\", \"stddev\": \"0.69\", \"min\": \"0.95\", \"max\": \"3.94\", \"missing\": \"0\"}, \"transformation\": [{\"transformation\": \"novalue\", \"selectedAsDefault\": 1}], \"updatedLabel\": \"PredcitiveChurnTrain[Intl...\"}, {\"transformationsData\": [{\"transformation_label\": \"novalue\"}], \"feature\": \"PredcitiveChurnTrain[Total_Charge]\", \"type\": \"real\", \"selected\": \"True\", \"replaceby\": \"mean\", \"stats\": {\"count\": \"18\", \"mean\": \"56.07\", \"stddev\": \"8.47\", \"min\": \"39.15\", \"max\": \"68.49\", \"missing\": \"0\"}, \"transformation\": [{\"transformation\": \"novalue\", \"selectedAsDefault\": 1}], \"updatedLabel\": \"PredcitiveChurnTrain[Tota...\"}, {\"transformationsData\": [{\"transformation_label\": \"novalue\"}], \"feature\": \"PredcitiveChurnTrain[CustServ_Calls]\", \"transformation\": [{\"transformation\": \"novalue\", \"selectedAsDefault\": 1}], \"type\": \"numeric\", \"replaceby\": \"mean\", \"selected\": \"True\", \"stats\": {\"count\": \"18\", \"mean\": \"2.22\", \"stddev\": \"1.35\", \"min\": \"0\", \"max\": \"5\", \"missing\": \"0\"}, \"updatedLabel\": \"PredcitiveChurnTrain[Cust...\"}, {\"transformationsData\": [{\"feature_label\": \"PredcitiveChurnTrain[cluster_labels]\", \"transformation_label\": \"String Indexer\"}], \"feature\": \"PredcitiveChurnTrain[cluster_labels]\", \"type\": \"string\", \"selected\": \"True\", \"replaceby\": \"max\", \"stats\": {\"count\": \"18\", \"mean\": \"\", \"stddev\": \"\", \"min\": \"day_callers\", \"max\": \"vmailers\", \"missing\": \"0\", \"distinct\": \"5\"}, \"transformation\": [{\"transformation\": \"String Indexer\", \"selectedAsDefault\": 1}], \"updatedLabel\": \"PredcitiveChurnTrain[clus...\"}, {\"transformationsData\": [{\"transformation_label\": \"novalue\"}], \"feature\": \"PredcitiveChurnTrain[Churn]\", \"transformation\": [{\"transformation\": \"novalue\", \"selectedAsDefault\": 1}], \"type\": \"numeric\", \"replaceby\": \"mean\", \"selected\": \"True\", \"stats\": {\"count\": \"18\", \"mean\": \"0.22\", \"stddev\": \"0.43\", \"min\": \"0\", \"max\": \"1\", \"missing\": \"0\"}, \"updatedLabel\": \"PredcitiveChurnTrain[Chur...\"}]}))\n",
    "\n",
    "\t#transformationPostExecutionHook(testautofe)\n",
    "\n",
    "except Exception as ex: \n",
    "\tlogging.error(ex)\n"
   ]
  },
  {
   "cell_type": "markdown",
   "metadata": {},
   "source": [
    "***TRAIN MODEL***"
   ]
  },
  {
   "cell_type": "code",
   "execution_count": null,
   "metadata": {},
   "outputs": [],
   "source": [
    "#%run test1223Hooks.ipynb\n",
    "try:\n",
    "\t#mlPreExecutionHook()\n",
    "\n",
    "\tdataAutoML=functionClassification(testautofe, [\"PredcitiveChurnTrain[Account_Length]\", \"PredcitiveChurnTrain[Area_Code]\", \"PredcitiveChurnTrain[Intl_Plan]\", \"PredcitiveChurnTrain[VMail_Plan]\", \"PredcitiveChurnTrain[VMail_Message]\", \"PredcitiveChurnTrain[Day_Mins]\", \"PredcitiveChurnTrain[Day_Calls]\", \"PredcitiveChurnTrain[Day_Charge]\", \"PredcitiveChurnTrain[Eve_Mins]\", \"PredcitiveChurnTrain[Eve_Calls]\", \"PredcitiveChurnTrain[Eve_Charge]\", \"PredcitiveChurnTrain[Night_Mins]\", \"PredcitiveChurnTrain[Night_Calls]\", \"PredcitiveChurnTrain[Night_Charge]\", \"PredcitiveChurnTrain[Intl_Mins]\", \"PredcitiveChurnTrain[total_Mins]\", \"PredcitiveChurnTrain[Intl_Calls]\", \"PredcitiveChurnTrain[Intl_Charge]\", \"PredcitiveChurnTrain[Total_Charge]\", \"PredcitiveChurnTrain[CustServ_Calls]\", \"PredcitiveChurnTrain[State]_stringindexer\", \"PredcitiveChurnTrain[Phone]_stringindexer\", \"PredcitiveChurnTrain[cluster_labels]_stringindexer\"], \"PredcitiveChurnTrain[Churn]\")\n",
    "\n",
    "\t#mlPostExecutionHook(dataAutoML)\n",
    "\n",
    "except Exception as ex: \n",
    "\tlogging.error(ex)\n"
   ]
  },
  {
   "cell_type": "markdown",
   "metadata": {},
   "source": [
    "***PREDICT ON TRAINED MODEL***"
   ]
  },
  {
   "cell_type": "code",
   "execution_count": null,
   "metadata": {},
   "outputs": [],
   "source": [
    "import pandas as pd\n",
    "import numpy as np\n",
    "import sklearn.metrics\n",
    "\n",
    "try:\n",
    "    model=dataAutoML['model']\n",
    "    X_test=dataAutoML['X_test']\n",
    "    y_test=dataAutoML['y_test']\n",
    "    label=dataAutoML['label']\n",
    "    columnNames=dataAutoML['columnNames']\n",
    "    if label in columnNames:\n",
    "        columnNames.remove(label)\n",
    "    predicted=label+\"_predicted\"\n",
    "    y_predicted=model.predict(X_test)\n",
    "    df =pd.DataFrame(X_test , columns=columnNames)\n",
    "    df[label]=y_test\n",
    "    df[predicted]=y_predicted\n",
    "    columnNames.insert(0,predicted)\n",
    "    columnNames.insert(0,label)\n",
    "    Accuracy = np.round((100 * sklearn.metrics.accuracy_score(y_true=y_test, y_pred=y_predicted)), 1)\n",
    "    F1= np.round(\n",
    "            (100 * sklearn.metrics.f1_score(y_true=y_test, y_pred=y_predicted, average=\"weighted\")), 1)\n",
    "    Precision= np.round((\n",
    "                100 * sklearn.metrics.precision_score(y_true=y_test, y_pred=y_predicted, average=\"weighted\")), 1)\n",
    "    Recall = np.round((\n",
    "                100 * sklearn.metrics.recall_score(y_true=y_test, y_pred=y_predicted, average=\"weighted\")), 1)\n",
    "    display(\" Accuracy of Prediction on test data    : %s\"%Accuracy)\n",
    "    display(\" F1 score of Prediction on test data    : %s\"%F1)\n",
    "    display(\" Precision of Prediction on test data   : %s\"%Precision)\n",
    "    display(\" Recall of Prediction on test data      : %s\"%Recall)\n",
    "    display(df.head())\n",
    "except Exception as ex:\n",
    "    logging.error(ex)\n",
    "\n"
   ]
  }
 ],
 "metadata": {},
 "nbformat": 4,
 "nbformat_minor": 2
}
